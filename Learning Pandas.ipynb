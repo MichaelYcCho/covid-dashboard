{
 "cells": [
  {
   "cell_type": "code",
   "execution_count": 9,
   "id": "special-hindu",
   "metadata": {},
   "outputs": [
    {
     "data": {
      "text/plain": [
       "0              Afghanistan\n",
       "1                  Albania\n",
       "2                  Algeria\n",
       "3                  Andorra\n",
       "4                   Angola\n",
       "               ...        \n",
       "3972               Vietnam\n",
       "3973    West Bank and Gaza\n",
       "3974                 Yemen\n",
       "3975                Zambia\n",
       "3976              Zimbabwe\n",
       "Name: Country_Region, Length: 3977, dtype: object"
      ]
     },
     "execution_count": 9,
     "metadata": {},
     "output_type": "execute_result"
    }
   ],
   "source": [
    "import pandas as pd\n",
    "\n",
    "daily_df = pd.read_csv(\"data/daily_report.csv\")\n",
    "\n",
    "daily_df[\"Country_Region\"]\n"
   ]
  }
 ],
 "metadata": {
  "kernelspec": {
   "display_name": "Python 3",
   "language": "python",
   "name": "python3"
  },
  "language_info": {
   "codemirror_mode": {
    "name": "ipython",
    "version": 3
   },
   "file_extension": ".py",
   "mimetype": "text/x-python",
   "name": "python",
   "nbconvert_exporter": "python",
   "pygments_lexer": "ipython3",
   "version": "3.8.3"
  }
 },
 "nbformat": 4,
 "nbformat_minor": 5
}
