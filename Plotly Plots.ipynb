{
 "cells": [
  {
   "cell_type": "code",
   "execution_count": 22,
   "id": "animated-taxation",
   "metadata": {},
   "outputs": [
    {
     "data": {
      "application/vnd.plotly.v1+json": {
       "config": {
        "plotlyServerURL": "https://plot.ly"
       },
       "data": [
        {
         "customdata": [
          [
           20252310,
           354009,
           0,
           "US"
          ],
          [
           10286709,
           148994,
           9883461,
           "India"
          ],
          [
           7700578,
           195411,
           6855372,
           "Brazil"
          ],
          [
           3153960,
           56798,
           2553467,
           "Russia"
          ],
          [
           2697014,
           64892,
           200822,
           "France"
          ],
          [
           2549693,
           74237,
           5682,
           "United Kingdom"
          ],
          [
           2220855,
           21093,
           2114760,
           "Turkey"
          ],
          [
           2129376,
           74621,
           1479988,
           "Italy"
          ],
          [
           1928265,
           50837,
           150376,
           "Spain"
          ],
          [
           1762637,
           34145,
           1388744,
           "Germany"
          ],
          [
           1654880,
           43495,
           1520548,
           "Colombia"
          ],
          [
           1629594,
           43319,
           1426676,
           "Argentina"
          ],
          [
           1437185,
           126507,
           1083768,
           "Mexico"
          ],
          [
           1305774,
           28956,
           1046281,
           "Poland"
          ],
          [
           1231429,
           55337,
           995570,
           "Iran"
          ],
          [
           1096855,
           19437,
           746680,
           "Ukraine"
          ],
          [
           1073887,
           28887,
           887701,
           "South Africa"
          ],
          [
           1015137,
           37680,
           951318,
           "Peru"
          ],
          [
           816616,
           11624,
           9651,
           "Netherlands"
          ],
          [
           751270,
           22329,
           617936,
           "Indonesia"
          ],
          [
           732022,
           11711,
           600073,
           "Czechia"
          ],
          [
           648289,
           19581,
           0,
           "Belgium"
          ],
          [
           636201,
           15841,
           566365,
           "Romania"
          ],
          [
           612564,
           16660,
           579203,
           "Chile"
          ],
          [
           596193,
           12824,
           539817,
           "Iraq"
          ],
          [
           585400,
           15806,
           494437,
           "Canada"
          ],
          [
           514500,
           7576,
           458656,
           "Bangladesh"
          ],
          [
           484362,
           10258,
           438974,
           "Pakistan"
          ],
          [
           475820,
           9248,
           439895,
           "Philippines"
          ],
          [
           452296,
           7704,
           317600,
           "Switzerland"
          ],
          [
           440970,
           7425,
           409638,
           "Morocco"
          ],
          [
           437379,
           8727,
           0,
           "Sweden"
          ],
          [
           428510,
           3356,
           379910,
           "Israel"
          ],
          [
           420629,
           6972,
           338668,
           "Portugal"
          ],
          [
           362911,
           6261,
           334901,
           "Austria"
          ],
          [
           362878,
           6230,
           354081,
           "Saudi Arabia"
          ],
          [
           339997,
           3250,
           0,
           "Serbia"
          ],
          [
           325278,
           9667,
           157063,
           "Hungary"
          ],
          [
           295765,
           3851,
           271834,
           "Jordan"
          ],
          [
           261019,
           1864,
           253107,
           "Nepal"
          ],
          [
           249733,
           4064,
           197928,
           "Panama"
          ],
          [
           239068,
           3540,
           193558,
           "Japan"
          ],
          [
           228410,
           2528,
           214992,
           "Georgia"
          ],
          [
           219041,
           2670,
           188280,
           "Azerbaijan"
          ],
          [
           213378,
           14051,
           184507,
           "Ecuador"
          ],
          [
           212007,
           3961,
           199820,
           "Croatia"
          ],
          [
           209678,
           671,
           186019,
           "United Arab Emirates"
          ],
          [
           202540,
           7604,
           120343,
           "Bulgaria"
          ],
          [
           202060,
           2765,
           176774,
           "Kazakhstan"
          ],
          [
           196223,
           1433,
           178102,
           "Belarus"
          ],
          [
           184508,
           2250,
           127190,
           "Slovakia"
          ],
          [
           183888,
           1479,
           127959,
           "Lebanon"
          ],
          [
           172218,
           2416,
           131543,
           "Dominican Republic"
          ],
          [
           169321,
           2185,
           131923,
           "Costa Rica"
          ],
          [
           166567,
           1322,
           131390,
           "Denmark"
          ],
          [
           160985,
           9175,
           132510,
           "Bolivia"
          ],
          [
           159738,
           2828,
           143355,
           "Armenia"
          ],
          [
           150869,
           936,
           146777,
           "Kuwait"
          ],
          [
           145430,
           1837,
           98149,
           "Lithuania"
          ],
          [
           145258,
           3004,
           131701,
           "Moldova"
          ],
          [
           144042,
           245,
           141556,
           "Qatar"
          ],
          [
           140557,
           4730,
           105499,
           "Tunisia"
          ],
          [
           139471,
           7687,
           112826,
           "Egypt"
          ],
          [
           139447,
           4881,
           93764,
           "Greece"
          ],
          [
           139223,
           1418,
           118926,
           "West Bank and Gaza"
          ],
          [
           138236,
           4820,
           126606,
           "Guatemala"
          ],
          [
           128867,
           1499,
           121890,
           "Oman"
          ],
          [
           125042,
           2697,
           107777,
           "Burma"
          ],
          [
           124652,
           1937,
           112251,
           "Ethiopia"
          ],
          [
           123950,
           2728,
           100868,
           "Slovenia"
          ],
          [
           122974,
           3160,
           56936,
           "Honduras"
          ],
          [
           115078,
           474,
           91171,
           "Malaysia"
          ],
          [
           113884,
           1030,
           107901,
           "Venezuela"
          ],
          [
           112143,
           4086,
           77682,
           "Bosnia and Herzegovina"
          ],
          [
           108349,
           2262,
           81977,
           "Paraguay"
          ],
          [
           100744,
           1487,
           73252,
           "Libya"
          ],
          [
           99897,
           2762,
           67395,
           "Algeria"
          ],
          [
           96614,
           1681,
           78802,
           "Kenya"
          ],
          [
           96023,
           4782,
           90031,
           "China"
          ],
          [
           93532,
           2248,
           23364,
           "Ireland"
          ],
          [
           92913,
           352,
           90369,
           "Bahrain"
          ],
          [
           88587,
           1294,
           74373,
           "Nigeria"
          ],
          [
           83743,
           2510,
           61943,
           "North Macedonia"
          ],
          [
           81156,
           1356,
           76148,
           "Kyrgyzstan"
          ],
          [
           77182,
           614,
           75244,
           "Uzbekistan"
          ],
          [
           62593,
           942,
           43578,
           "Korea, South"
          ],
          [
           58629,
           29,
           58449,
           "Singapore"
          ],
          [
           58316,
           1181,
           33634,
           "Albania"
          ],
          [
           54930,
           335,
           53758,
           "Ghana"
          ],
          [
           51526,
           2191,
           41727,
           "Afghanistan"
          ],
          [
           51502,
           1336,
           41854,
           "Kosovo"
          ],
          [
           49803,
           436,
           17998,
           "Norway"
          ],
          [
           48589,
           684,
           38780,
           "Montenegro"
          ],
          [
           46415,
           495,
           40978,
           "Luxembourg"
          ],
          [
           45960,
           1327,
           45960,
           "El Salvador"
          ],
          [
           43856,
           208,
           36155,
           "Sri Lanka"
          ],
          [
           41615,
           644,
           29018,
           "Latvia"
          ],
          [
           36403,
           561,
           29000,
           "Finland"
          ],
          [
           35511,
           265,
           11878,
           "Uganda"
          ],
          [
           28460,
           909,
           22573,
           "Australia"
          ],
          [
           28406,
           234,
           19027,
           "Estonia"
          ],
          [
           26848,
           448,
           24892,
           "Cameroon"
          ],
          [
           25730,
           1468,
           13524,
           "Sudan"
          ],
          [
           24545,
           208,
           20727,
           "Namibia"
          ],
          [
           22818,
           127,
           2057,
           "Cyprus"
          ],
          [
           22563,
           138,
           21981,
           "Cote d'Ivoire"
          ],
          [
           20997,
           390,
           18773,
           "Zambia"
          ],
          [
           19753,
           193,
           13990,
           "Uruguay"
          ],
          [
           19364,
           410,
           17375,
           "Senegal"
          ],
          [
           18794,
           167,
           16680,
           "Mozambique"
          ],
          [
           17849,
           591,
           14701,
           "Congo (Kinshasa)"
          ],
          [
           17714,
           261,
           17228,
           "Madagascar"
          ],
          [
           17568,
           405,
           11146,
           "Angola"
          ],
          [
           14805,
           42,
           12136,
           "Botswana"
          ],
          [
           14581,
           349,
           11652,
           "Mauritania"
          ],
          [
           14084,
           369,
           11347,
           "Zimbabwe"
          ],
          [
           13804,
           48,
           13150,
           "Maldives"
          ],
          [
           13738,
           81,
           13153,
           "Guinea"
          ],
          [
           13296,
           90,
           12894,
           "Tajikistan"
          ],
          [
           12915,
           303,
           10532,
           "Jamaica"
          ],
          [
           12909,
           219,
           11178,
           "Malta"
          ],
          [
           12056,
           146,
           10345,
           "Cuba"
          ],
          [
           11872,
           113,
           11569,
           "Cabo Verde"
          ],
          [
           11526,
           717,
           5420,
           "Syria"
          ],
          [
           10776,
           248,
           9795,
           "Belize"
          ],
          [
           10015,
           236,
           8624,
           "Haiti"
          ],
          [
           9571,
           64,
           9388,
           "Gabon"
          ],
          [
           9482,
           216,
           7073,
           "Eswatini"
          ],
          [
           8460,
           94,
           6598,
           "Rwanda"
          ],
          [
           8117,
           84,
           7463,
           "Andorra"
          ],
          [
           7887,
           171,
           6239,
           "Bahamas"
          ],
          [
           7379,
           64,
           4299,
           "Thailand"
          ],
          [
           7203,
           271,
           4694,
           "Mali"
          ],
          [
           7158,
           127,
           6671,
           "Trinidad and Tobago"
          ],
          [
           7107,
           108,
           5846,
           "Congo (Brazzaville)"
          ],
          [
           6828,
           85,
           5152,
           "Burkina Faso"
          ],
          [
           6684,
           191,
           5708,
           "Malawi"
          ],
          [
           6348,
           164,
           5868,
           "Guyana"
          ],
          [
           6277,
           123,
           5771,
           "Suriname"
          ],
          [
           6046,
           165,
           4225,
           "Nicaragua"
          ],
          [
           5840,
           61,
           5735,
           "Djibouti"
          ],
          [
           5754,
           29,
           5578,
           "Iceland"
          ],
          [
           5277,
           86,
           5136,
           "Equatorial Guinea"
          ],
          [
           4963,
           63,
           1924,
           "Central African Republic"
          ],
          [
           4714,
           130,
           3612,
           "Somalia"
          ],
          [
           3800,
           124,
           3669,
           "Gambia"
          ],
          [
           3662,
           68,
           3443,
           "Togo"
          ],
          [
           3558,
           63,
           3131,
           "South Sudan"
          ],
          [
           3403,
           106,
           1828,
           "Niger"
          ],
          [
           3251,
           44,
           3061,
           "Benin"
          ],
          [
           3206,
           51,
           1496,
           "Lesotho"
          ],
          [
           2635,
           76,
           1906,
           "Sierra Leone"
          ],
          [
           2452,
           45,
           2397,
           "Guinea-Bissau"
          ],
          [
           2428,
           59,
           2042,
           "San Marino"
          ],
          [
           2175,
           39,
           1810,
           "Liechtenstein"
          ],
          [
           2162,
           25,
           2082,
           "New Zealand"
          ],
          [
           2141,
           104,
           1704,
           "Chad"
          ],
          [
           2101,
           610,
           1396,
           "Yemen"
          ],
          [
           1779,
           83,
           1406,
           "Liberia"
          ],
          [
           1474,
           35,
           1325,
           "Vietnam"
          ],
          [
           1320,
           3,
           643,
           "Eritrea"
          ],
          [
           1242,
           1,
           855,
           "Mongolia"
          ],
          [
           1022,
           17,
           973,
           "Sao Tome and Principe"
          ],
          [
           885,
           3,
           718,
           "Monaco"
          ],
          [
           823,
           10,
           705,
           "Comoros"
          ],
          [
           822,
           2,
           687,
           "Burundi"
          ],
          [
           802,
           7,
           682,
           "Taiwan*"
          ],
          [
           780,
           9,
           661,
           "Papua New Guinea"
          ],
          [
           712,
           13,
           699,
           "Diamond Princess"
          ],
          [
           689,
           0,
           449,
           "Bhutan"
          ],
          [
           527,
           10,
           496,
           "Mauritius"
          ],
          [
           509,
           21,
           183,
           "Tanzania"
          ],
          [
           395,
           7,
           319,
           "Barbados"
          ],
          [
           379,
           0,
           362,
           "Cambodia"
          ],
          [
           353,
           5,
           289,
           "Saint Lucia"
          ],
          [
           256,
           0,
           214,
           "Seychelles"
          ],
          [
           159,
           5,
           148,
           "Antigua and Barbuda"
          ],
          [
           157,
           3,
           149,
           "Brunei"
          ],
          [
           127,
           0,
           107,
           "Grenada"
          ],
          [
           121,
           0,
           98,
           "Saint Vincent and the Grenadines"
          ],
          [
           88,
           0,
           83,
           "Dominica"
          ],
          [
           49,
           2,
           44,
           "Fiji"
          ],
          [
           44,
           0,
           32,
           "Timor-Leste"
          ],
          [
           41,
           0,
           40,
           "Laos"
          ],
          [
           32,
           0,
           29,
           "Saint Kitts and Nevis"
          ],
          [
           27,
           0,
           15,
           "Holy See"
          ],
          [
           17,
           0,
           5,
           "Solomon Islands"
          ],
          [
           9,
           2,
           7,
           "MS Zaandam"
          ],
          [
           4,
           0,
           4,
           "Marshall Islands"
          ],
          [
           2,
           0,
           2,
           "Samoa"
          ],
          [
           1,
           0,
           1,
           "Vanuatu"
          ]
         ],
         "geo": "geo",
         "hovertemplate": "<b>%{hovertext}</b><br><br>Confirmed=%{marker.color:,2f}<br>Deaths=%{customdata[1]:,2f}<br>Recovered=%{customdata[2]:,2f}<extra></extra>",
         "hovertext": [
          "US",
          "India",
          "Brazil",
          "Russia",
          "France",
          "United Kingdom",
          "Turkey",
          "Italy",
          "Spain",
          "Germany",
          "Colombia",
          "Argentina",
          "Mexico",
          "Poland",
          "Iran",
          "Ukraine",
          "South Africa",
          "Peru",
          "Netherlands",
          "Indonesia",
          "Czechia",
          "Belgium",
          "Romania",
          "Chile",
          "Iraq",
          "Canada",
          "Bangladesh",
          "Pakistan",
          "Philippines",
          "Switzerland",
          "Morocco",
          "Sweden",
          "Israel",
          "Portugal",
          "Austria",
          "Saudi Arabia",
          "Serbia",
          "Hungary",
          "Jordan",
          "Nepal",
          "Panama",
          "Japan",
          "Georgia",
          "Azerbaijan",
          "Ecuador",
          "Croatia",
          "United Arab Emirates",
          "Bulgaria",
          "Kazakhstan",
          "Belarus",
          "Slovakia",
          "Lebanon",
          "Dominican Republic",
          "Costa Rica",
          "Denmark",
          "Bolivia",
          "Armenia",
          "Kuwait",
          "Lithuania",
          "Moldova",
          "Qatar",
          "Tunisia",
          "Egypt",
          "Greece",
          "West Bank and Gaza",
          "Guatemala",
          "Oman",
          "Burma",
          "Ethiopia",
          "Slovenia",
          "Honduras",
          "Malaysia",
          "Venezuela",
          "Bosnia and Herzegovina",
          "Paraguay",
          "Libya",
          "Algeria",
          "Kenya",
          "China",
          "Ireland",
          "Bahrain",
          "Nigeria",
          "North Macedonia",
          "Kyrgyzstan",
          "Uzbekistan",
          "Korea, South",
          "Singapore",
          "Albania",
          "Ghana",
          "Afghanistan",
          "Kosovo",
          "Norway",
          "Montenegro",
          "Luxembourg",
          "El Salvador",
          "Sri Lanka",
          "Latvia",
          "Finland",
          "Uganda",
          "Australia",
          "Estonia",
          "Cameroon",
          "Sudan",
          "Namibia",
          "Cyprus",
          "Cote d'Ivoire",
          "Zambia",
          "Uruguay",
          "Senegal",
          "Mozambique",
          "Congo (Kinshasa)",
          "Madagascar",
          "Angola",
          "Botswana",
          "Mauritania",
          "Zimbabwe",
          "Maldives",
          "Guinea",
          "Tajikistan",
          "Jamaica",
          "Malta",
          "Cuba",
          "Cabo Verde",
          "Syria",
          "Belize",
          "Haiti",
          "Gabon",
          "Eswatini",
          "Rwanda",
          "Andorra",
          "Bahamas",
          "Thailand",
          "Mali",
          "Trinidad and Tobago",
          "Congo (Brazzaville)",
          "Burkina Faso",
          "Malawi",
          "Guyana",
          "Suriname",
          "Nicaragua",
          "Djibouti",
          "Iceland",
          "Equatorial Guinea",
          "Central African Republic",
          "Somalia",
          "Gambia",
          "Togo",
          "South Sudan",
          "Niger",
          "Benin",
          "Lesotho",
          "Sierra Leone",
          "Guinea-Bissau",
          "San Marino",
          "Liechtenstein",
          "New Zealand",
          "Chad",
          "Yemen",
          "Liberia",
          "Vietnam",
          "Eritrea",
          "Mongolia",
          "Sao Tome and Principe",
          "Monaco",
          "Comoros",
          "Burundi",
          "Taiwan*",
          "Papua New Guinea",
          "Diamond Princess",
          "Bhutan",
          "Mauritius",
          "Tanzania",
          "Barbados",
          "Cambodia",
          "Saint Lucia",
          "Seychelles",
          "Antigua and Barbuda",
          "Brunei",
          "Grenada",
          "Saint Vincent and the Grenadines",
          "Dominica",
          "Fiji",
          "Timor-Leste",
          "Laos",
          "Saint Kitts and Nevis",
          "Holy See",
          "Solomon Islands",
          "MS Zaandam",
          "Marshall Islands",
          "Samoa",
          "Vanuatu"
         ],
         "legendgroup": "",
         "locationmode": "country names",
         "locations": [
          "US",
          "India",
          "Brazil",
          "Russia",
          "France",
          "United Kingdom",
          "Turkey",
          "Italy",
          "Spain",
          "Germany",
          "Colombia",
          "Argentina",
          "Mexico",
          "Poland",
          "Iran",
          "Ukraine",
          "South Africa",
          "Peru",
          "Netherlands",
          "Indonesia",
          "Czechia",
          "Belgium",
          "Romania",
          "Chile",
          "Iraq",
          "Canada",
          "Bangladesh",
          "Pakistan",
          "Philippines",
          "Switzerland",
          "Morocco",
          "Sweden",
          "Israel",
          "Portugal",
          "Austria",
          "Saudi Arabia",
          "Serbia",
          "Hungary",
          "Jordan",
          "Nepal",
          "Panama",
          "Japan",
          "Georgia",
          "Azerbaijan",
          "Ecuador",
          "Croatia",
          "United Arab Emirates",
          "Bulgaria",
          "Kazakhstan",
          "Belarus",
          "Slovakia",
          "Lebanon",
          "Dominican Republic",
          "Costa Rica",
          "Denmark",
          "Bolivia",
          "Armenia",
          "Kuwait",
          "Lithuania",
          "Moldova",
          "Qatar",
          "Tunisia",
          "Egypt",
          "Greece",
          "West Bank and Gaza",
          "Guatemala",
          "Oman",
          "Burma",
          "Ethiopia",
          "Slovenia",
          "Honduras",
          "Malaysia",
          "Venezuela",
          "Bosnia and Herzegovina",
          "Paraguay",
          "Libya",
          "Algeria",
          "Kenya",
          "China",
          "Ireland",
          "Bahrain",
          "Nigeria",
          "North Macedonia",
          "Kyrgyzstan",
          "Uzbekistan",
          "Korea, South",
          "Singapore",
          "Albania",
          "Ghana",
          "Afghanistan",
          "Kosovo",
          "Norway",
          "Montenegro",
          "Luxembourg",
          "El Salvador",
          "Sri Lanka",
          "Latvia",
          "Finland",
          "Uganda",
          "Australia",
          "Estonia",
          "Cameroon",
          "Sudan",
          "Namibia",
          "Cyprus",
          "Cote d'Ivoire",
          "Zambia",
          "Uruguay",
          "Senegal",
          "Mozambique",
          "Congo (Kinshasa)",
          "Madagascar",
          "Angola",
          "Botswana",
          "Mauritania",
          "Zimbabwe",
          "Maldives",
          "Guinea",
          "Tajikistan",
          "Jamaica",
          "Malta",
          "Cuba",
          "Cabo Verde",
          "Syria",
          "Belize",
          "Haiti",
          "Gabon",
          "Eswatini",
          "Rwanda",
          "Andorra",
          "Bahamas",
          "Thailand",
          "Mali",
          "Trinidad and Tobago",
          "Congo (Brazzaville)",
          "Burkina Faso",
          "Malawi",
          "Guyana",
          "Suriname",
          "Nicaragua",
          "Djibouti",
          "Iceland",
          "Equatorial Guinea",
          "Central African Republic",
          "Somalia",
          "Gambia",
          "Togo",
          "South Sudan",
          "Niger",
          "Benin",
          "Lesotho",
          "Sierra Leone",
          "Guinea-Bissau",
          "San Marino",
          "Liechtenstein",
          "New Zealand",
          "Chad",
          "Yemen",
          "Liberia",
          "Vietnam",
          "Eritrea",
          "Mongolia",
          "Sao Tome and Principe",
          "Monaco",
          "Comoros",
          "Burundi",
          "Taiwan*",
          "Papua New Guinea",
          "Diamond Princess",
          "Bhutan",
          "Mauritius",
          "Tanzania",
          "Barbados",
          "Cambodia",
          "Saint Lucia",
          "Seychelles",
          "Antigua and Barbuda",
          "Brunei",
          "Grenada",
          "Saint Vincent and the Grenadines",
          "Dominica",
          "Fiji",
          "Timor-Leste",
          "Laos",
          "Saint Kitts and Nevis",
          "Holy See",
          "Solomon Islands",
          "MS Zaandam",
          "Marshall Islands",
          "Samoa",
          "Vanuatu"
         ],
         "marker": {
          "color": [
           20252310,
           10286709,
           7700578,
           3153960,
           2697014,
           2549693,
           2220855,
           2129376,
           1928265,
           1762637,
           1654880,
           1629594,
           1437185,
           1305774,
           1231429,
           1096855,
           1073887,
           1015137,
           816616,
           751270,
           732022,
           648289,
           636201,
           612564,
           596193,
           585400,
           514500,
           484362,
           475820,
           452296,
           440970,
           437379,
           428510,
           420629,
           362911,
           362878,
           339997,
           325278,
           295765,
           261019,
           249733,
           239068,
           228410,
           219041,
           213378,
           212007,
           209678,
           202540,
           202060,
           196223,
           184508,
           183888,
           172218,
           169321,
           166567,
           160985,
           159738,
           150869,
           145430,
           145258,
           144042,
           140557,
           139471,
           139447,
           139223,
           138236,
           128867,
           125042,
           124652,
           123950,
           122974,
           115078,
           113884,
           112143,
           108349,
           100744,
           99897,
           96614,
           96023,
           93532,
           92913,
           88587,
           83743,
           81156,
           77182,
           62593,
           58629,
           58316,
           54930,
           51526,
           51502,
           49803,
           48589,
           46415,
           45960,
           43856,
           41615,
           36403,
           35511,
           28460,
           28406,
           26848,
           25730,
           24545,
           22818,
           22563,
           20997,
           19753,
           19364,
           18794,
           17849,
           17714,
           17568,
           14805,
           14581,
           14084,
           13804,
           13738,
           13296,
           12915,
           12909,
           12056,
           11872,
           11526,
           10776,
           10015,
           9571,
           9482,
           8460,
           8117,
           7887,
           7379,
           7203,
           7158,
           7107,
           6828,
           6684,
           6348,
           6277,
           6046,
           5840,
           5754,
           5277,
           4963,
           4714,
           3800,
           3662,
           3558,
           3403,
           3251,
           3206,
           2635,
           2452,
           2428,
           2175,
           2162,
           2141,
           2101,
           1779,
           1474,
           1320,
           1242,
           1022,
           885,
           823,
           822,
           802,
           780,
           712,
           689,
           527,
           509,
           395,
           379,
           353,
           256,
           159,
           157,
           127,
           121,
           88,
           49,
           44,
           41,
           32,
           27,
           17,
           9,
           4,
           2,
           1
          ],
          "coloraxis": "coloraxis",
          "size": [
           20252310,
           10286709,
           7700578,
           3153960,
           2697014,
           2549693,
           2220855,
           2129376,
           1928265,
           1762637,
           1654880,
           1629594,
           1437185,
           1305774,
           1231429,
           1096855,
           1073887,
           1015137,
           816616,
           751270,
           732022,
           648289,
           636201,
           612564,
           596193,
           585400,
           514500,
           484362,
           475820,
           452296,
           440970,
           437379,
           428510,
           420629,
           362911,
           362878,
           339997,
           325278,
           295765,
           261019,
           249733,
           239068,
           228410,
           219041,
           213378,
           212007,
           209678,
           202540,
           202060,
           196223,
           184508,
           183888,
           172218,
           169321,
           166567,
           160985,
           159738,
           150869,
           145430,
           145258,
           144042,
           140557,
           139471,
           139447,
           139223,
           138236,
           128867,
           125042,
           124652,
           123950,
           122974,
           115078,
           113884,
           112143,
           108349,
           100744,
           99897,
           96614,
           96023,
           93532,
           92913,
           88587,
           83743,
           81156,
           77182,
           62593,
           58629,
           58316,
           54930,
           51526,
           51502,
           49803,
           48589,
           46415,
           45960,
           43856,
           41615,
           36403,
           35511,
           28460,
           28406,
           26848,
           25730,
           24545,
           22818,
           22563,
           20997,
           19753,
           19364,
           18794,
           17849,
           17714,
           17568,
           14805,
           14581,
           14084,
           13804,
           13738,
           13296,
           12915,
           12909,
           12056,
           11872,
           11526,
           10776,
           10015,
           9571,
           9482,
           8460,
           8117,
           7887,
           7379,
           7203,
           7158,
           7107,
           6828,
           6684,
           6348,
           6277,
           6046,
           5840,
           5754,
           5277,
           4963,
           4714,
           3800,
           3662,
           3558,
           3403,
           3251,
           3206,
           2635,
           2452,
           2428,
           2175,
           2162,
           2141,
           2101,
           1779,
           1474,
           1320,
           1242,
           1022,
           885,
           823,
           822,
           802,
           780,
           712,
           689,
           527,
           509,
           395,
           379,
           353,
           256,
           159,
           157,
           127,
           121,
           88,
           49,
           44,
           41,
           32,
           27,
           17,
           9,
           4,
           2,
           1
          ],
          "sizemode": "area",
          "sizeref": 12657.69375,
          "symbol": "circle"
         },
         "mode": "markers",
         "name": "",
         "showlegend": false,
         "type": "scattergeo"
        }
       ],
       "layout": {
        "coloraxis": {
         "colorbar": {
          "title": {
           "text": "Confirmed"
          }
         },
         "colorscale": [
          [
           0,
           "#0d0887"
          ],
          [
           0.1111111111111111,
           "#46039f"
          ],
          [
           0.2222222222222222,
           "#7201a8"
          ],
          [
           0.3333333333333333,
           "#9c179e"
          ],
          [
           0.4444444444444444,
           "#bd3786"
          ],
          [
           0.5555555555555556,
           "#d8576b"
          ],
          [
           0.6666666666666666,
           "#ed7953"
          ],
          [
           0.7777777777777778,
           "#fb9f3a"
          ],
          [
           0.8888888888888888,
           "#fdca26"
          ],
          [
           1,
           "#f0f921"
          ]
         ]
        },
        "geo": {
         "center": {},
         "domain": {
          "x": [
           0,
           1
          ],
          "y": [
           0,
           1
          ]
         }
        },
        "legend": {
         "itemsizing": "constant",
         "tracegroupgap": 0
        },
        "margin": {
         "t": 60
        },
        "template": {
         "data": {
          "bar": [
           {
            "error_x": {
             "color": "#2a3f5f"
            },
            "error_y": {
             "color": "#2a3f5f"
            },
            "marker": {
             "line": {
              "color": "#E5ECF6",
              "width": 0.5
             }
            },
            "type": "bar"
           }
          ],
          "barpolar": [
           {
            "marker": {
             "line": {
              "color": "#E5ECF6",
              "width": 0.5
             }
            },
            "type": "barpolar"
           }
          ],
          "carpet": [
           {
            "aaxis": {
             "endlinecolor": "#2a3f5f",
             "gridcolor": "white",
             "linecolor": "white",
             "minorgridcolor": "white",
             "startlinecolor": "#2a3f5f"
            },
            "baxis": {
             "endlinecolor": "#2a3f5f",
             "gridcolor": "white",
             "linecolor": "white",
             "minorgridcolor": "white",
             "startlinecolor": "#2a3f5f"
            },
            "type": "carpet"
           }
          ],
          "choropleth": [
           {
            "colorbar": {
             "outlinewidth": 0,
             "ticks": ""
            },
            "type": "choropleth"
           }
          ],
          "contour": [
           {
            "colorbar": {
             "outlinewidth": 0,
             "ticks": ""
            },
            "colorscale": [
             [
              0,
              "#0d0887"
             ],
             [
              0.1111111111111111,
              "#46039f"
             ],
             [
              0.2222222222222222,
              "#7201a8"
             ],
             [
              0.3333333333333333,
              "#9c179e"
             ],
             [
              0.4444444444444444,
              "#bd3786"
             ],
             [
              0.5555555555555556,
              "#d8576b"
             ],
             [
              0.6666666666666666,
              "#ed7953"
             ],
             [
              0.7777777777777778,
              "#fb9f3a"
             ],
             [
              0.8888888888888888,
              "#fdca26"
             ],
             [
              1,
              "#f0f921"
             ]
            ],
            "type": "contour"
           }
          ],
          "contourcarpet": [
           {
            "colorbar": {
             "outlinewidth": 0,
             "ticks": ""
            },
            "type": "contourcarpet"
           }
          ],
          "heatmap": [
           {
            "colorbar": {
             "outlinewidth": 0,
             "ticks": ""
            },
            "colorscale": [
             [
              0,
              "#0d0887"
             ],
             [
              0.1111111111111111,
              "#46039f"
             ],
             [
              0.2222222222222222,
              "#7201a8"
             ],
             [
              0.3333333333333333,
              "#9c179e"
             ],
             [
              0.4444444444444444,
              "#bd3786"
             ],
             [
              0.5555555555555556,
              "#d8576b"
             ],
             [
              0.6666666666666666,
              "#ed7953"
             ],
             [
              0.7777777777777778,
              "#fb9f3a"
             ],
             [
              0.8888888888888888,
              "#fdca26"
             ],
             [
              1,
              "#f0f921"
             ]
            ],
            "type": "heatmap"
           }
          ],
          "heatmapgl": [
           {
            "colorbar": {
             "outlinewidth": 0,
             "ticks": ""
            },
            "colorscale": [
             [
              0,
              "#0d0887"
             ],
             [
              0.1111111111111111,
              "#46039f"
             ],
             [
              0.2222222222222222,
              "#7201a8"
             ],
             [
              0.3333333333333333,
              "#9c179e"
             ],
             [
              0.4444444444444444,
              "#bd3786"
             ],
             [
              0.5555555555555556,
              "#d8576b"
             ],
             [
              0.6666666666666666,
              "#ed7953"
             ],
             [
              0.7777777777777778,
              "#fb9f3a"
             ],
             [
              0.8888888888888888,
              "#fdca26"
             ],
             [
              1,
              "#f0f921"
             ]
            ],
            "type": "heatmapgl"
           }
          ],
          "histogram": [
           {
            "marker": {
             "colorbar": {
              "outlinewidth": 0,
              "ticks": ""
             }
            },
            "type": "histogram"
           }
          ],
          "histogram2d": [
           {
            "colorbar": {
             "outlinewidth": 0,
             "ticks": ""
            },
            "colorscale": [
             [
              0,
              "#0d0887"
             ],
             [
              0.1111111111111111,
              "#46039f"
             ],
             [
              0.2222222222222222,
              "#7201a8"
             ],
             [
              0.3333333333333333,
              "#9c179e"
             ],
             [
              0.4444444444444444,
              "#bd3786"
             ],
             [
              0.5555555555555556,
              "#d8576b"
             ],
             [
              0.6666666666666666,
              "#ed7953"
             ],
             [
              0.7777777777777778,
              "#fb9f3a"
             ],
             [
              0.8888888888888888,
              "#fdca26"
             ],
             [
              1,
              "#f0f921"
             ]
            ],
            "type": "histogram2d"
           }
          ],
          "histogram2dcontour": [
           {
            "colorbar": {
             "outlinewidth": 0,
             "ticks": ""
            },
            "colorscale": [
             [
              0,
              "#0d0887"
             ],
             [
              0.1111111111111111,
              "#46039f"
             ],
             [
              0.2222222222222222,
              "#7201a8"
             ],
             [
              0.3333333333333333,
              "#9c179e"
             ],
             [
              0.4444444444444444,
              "#bd3786"
             ],
             [
              0.5555555555555556,
              "#d8576b"
             ],
             [
              0.6666666666666666,
              "#ed7953"
             ],
             [
              0.7777777777777778,
              "#fb9f3a"
             ],
             [
              0.8888888888888888,
              "#fdca26"
             ],
             [
              1,
              "#f0f921"
             ]
            ],
            "type": "histogram2dcontour"
           }
          ],
          "mesh3d": [
           {
            "colorbar": {
             "outlinewidth": 0,
             "ticks": ""
            },
            "type": "mesh3d"
           }
          ],
          "parcoords": [
           {
            "line": {
             "colorbar": {
              "outlinewidth": 0,
              "ticks": ""
             }
            },
            "type": "parcoords"
           }
          ],
          "pie": [
           {
            "automargin": true,
            "type": "pie"
           }
          ],
          "scatter": [
           {
            "marker": {
             "colorbar": {
              "outlinewidth": 0,
              "ticks": ""
             }
            },
            "type": "scatter"
           }
          ],
          "scatter3d": [
           {
            "line": {
             "colorbar": {
              "outlinewidth": 0,
              "ticks": ""
             }
            },
            "marker": {
             "colorbar": {
              "outlinewidth": 0,
              "ticks": ""
             }
            },
            "type": "scatter3d"
           }
          ],
          "scattercarpet": [
           {
            "marker": {
             "colorbar": {
              "outlinewidth": 0,
              "ticks": ""
             }
            },
            "type": "scattercarpet"
           }
          ],
          "scattergeo": [
           {
            "marker": {
             "colorbar": {
              "outlinewidth": 0,
              "ticks": ""
             }
            },
            "type": "scattergeo"
           }
          ],
          "scattergl": [
           {
            "marker": {
             "colorbar": {
              "outlinewidth": 0,
              "ticks": ""
             }
            },
            "type": "scattergl"
           }
          ],
          "scattermapbox": [
           {
            "marker": {
             "colorbar": {
              "outlinewidth": 0,
              "ticks": ""
             }
            },
            "type": "scattermapbox"
           }
          ],
          "scatterpolar": [
           {
            "marker": {
             "colorbar": {
              "outlinewidth": 0,
              "ticks": ""
             }
            },
            "type": "scatterpolar"
           }
          ],
          "scatterpolargl": [
           {
            "marker": {
             "colorbar": {
              "outlinewidth": 0,
              "ticks": ""
             }
            },
            "type": "scatterpolargl"
           }
          ],
          "scatterternary": [
           {
            "marker": {
             "colorbar": {
              "outlinewidth": 0,
              "ticks": ""
             }
            },
            "type": "scatterternary"
           }
          ],
          "surface": [
           {
            "colorbar": {
             "outlinewidth": 0,
             "ticks": ""
            },
            "colorscale": [
             [
              0,
              "#0d0887"
             ],
             [
              0.1111111111111111,
              "#46039f"
             ],
             [
              0.2222222222222222,
              "#7201a8"
             ],
             [
              0.3333333333333333,
              "#9c179e"
             ],
             [
              0.4444444444444444,
              "#bd3786"
             ],
             [
              0.5555555555555556,
              "#d8576b"
             ],
             [
              0.6666666666666666,
              "#ed7953"
             ],
             [
              0.7777777777777778,
              "#fb9f3a"
             ],
             [
              0.8888888888888888,
              "#fdca26"
             ],
             [
              1,
              "#f0f921"
             ]
            ],
            "type": "surface"
           }
          ],
          "table": [
           {
            "cells": {
             "fill": {
              "color": "#EBF0F8"
             },
             "line": {
              "color": "white"
             }
            },
            "header": {
             "fill": {
              "color": "#C8D4E3"
             },
             "line": {
              "color": "white"
             }
            },
            "type": "table"
           }
          ]
         },
         "layout": {
          "annotationdefaults": {
           "arrowcolor": "#2a3f5f",
           "arrowhead": 0,
           "arrowwidth": 1
          },
          "autotypenumbers": "strict",
          "coloraxis": {
           "colorbar": {
            "outlinewidth": 0,
            "ticks": ""
           }
          },
          "colorscale": {
           "diverging": [
            [
             0,
             "#8e0152"
            ],
            [
             0.1,
             "#c51b7d"
            ],
            [
             0.2,
             "#de77ae"
            ],
            [
             0.3,
             "#f1b6da"
            ],
            [
             0.4,
             "#fde0ef"
            ],
            [
             0.5,
             "#f7f7f7"
            ],
            [
             0.6,
             "#e6f5d0"
            ],
            [
             0.7,
             "#b8e186"
            ],
            [
             0.8,
             "#7fbc41"
            ],
            [
             0.9,
             "#4d9221"
            ],
            [
             1,
             "#276419"
            ]
           ],
           "sequential": [
            [
             0,
             "#0d0887"
            ],
            [
             0.1111111111111111,
             "#46039f"
            ],
            [
             0.2222222222222222,
             "#7201a8"
            ],
            [
             0.3333333333333333,
             "#9c179e"
            ],
            [
             0.4444444444444444,
             "#bd3786"
            ],
            [
             0.5555555555555556,
             "#d8576b"
            ],
            [
             0.6666666666666666,
             "#ed7953"
            ],
            [
             0.7777777777777778,
             "#fb9f3a"
            ],
            [
             0.8888888888888888,
             "#fdca26"
            ],
            [
             1,
             "#f0f921"
            ]
           ],
           "sequentialminus": [
            [
             0,
             "#0d0887"
            ],
            [
             0.1111111111111111,
             "#46039f"
            ],
            [
             0.2222222222222222,
             "#7201a8"
            ],
            [
             0.3333333333333333,
             "#9c179e"
            ],
            [
             0.4444444444444444,
             "#bd3786"
            ],
            [
             0.5555555555555556,
             "#d8576b"
            ],
            [
             0.6666666666666666,
             "#ed7953"
            ],
            [
             0.7777777777777778,
             "#fb9f3a"
            ],
            [
             0.8888888888888888,
             "#fdca26"
            ],
            [
             1,
             "#f0f921"
            ]
           ]
          },
          "colorway": [
           "#636efa",
           "#EF553B",
           "#00cc96",
           "#ab63fa",
           "#FFA15A",
           "#19d3f3",
           "#FF6692",
           "#B6E880",
           "#FF97FF",
           "#FECB52"
          ],
          "font": {
           "color": "#2a3f5f"
          },
          "geo": {
           "bgcolor": "white",
           "lakecolor": "white",
           "landcolor": "#E5ECF6",
           "showlakes": true,
           "showland": true,
           "subunitcolor": "white"
          },
          "hoverlabel": {
           "align": "left"
          },
          "hovermode": "closest",
          "mapbox": {
           "style": "light"
          },
          "paper_bgcolor": "white",
          "plot_bgcolor": "#E5ECF6",
          "polar": {
           "angularaxis": {
            "gridcolor": "white",
            "linecolor": "white",
            "ticks": ""
           },
           "bgcolor": "#E5ECF6",
           "radialaxis": {
            "gridcolor": "white",
            "linecolor": "white",
            "ticks": ""
           }
          },
          "scene": {
           "xaxis": {
            "backgroundcolor": "#E5ECF6",
            "gridcolor": "white",
            "gridwidth": 2,
            "linecolor": "white",
            "showbackground": true,
            "ticks": "",
            "zerolinecolor": "white"
           },
           "yaxis": {
            "backgroundcolor": "#E5ECF6",
            "gridcolor": "white",
            "gridwidth": 2,
            "linecolor": "white",
            "showbackground": true,
            "ticks": "",
            "zerolinecolor": "white"
           },
           "zaxis": {
            "backgroundcolor": "#E5ECF6",
            "gridcolor": "white",
            "gridwidth": 2,
            "linecolor": "white",
            "showbackground": true,
            "ticks": "",
            "zerolinecolor": "white"
           }
          },
          "shapedefaults": {
           "line": {
            "color": "#2a3f5f"
           }
          },
          "ternary": {
           "aaxis": {
            "gridcolor": "white",
            "linecolor": "white",
            "ticks": ""
           },
           "baxis": {
            "gridcolor": "white",
            "linecolor": "white",
            "ticks": ""
           },
           "bgcolor": "#E5ECF6",
           "caxis": {
            "gridcolor": "white",
            "linecolor": "white",
            "ticks": ""
           }
          },
          "title": {
           "x": 0.05
          },
          "xaxis": {
           "automargin": true,
           "gridcolor": "white",
           "linecolor": "white",
           "ticks": "",
           "title": {
            "standoff": 15
           },
           "zerolinecolor": "white",
           "zerolinewidth": 2
          },
          "yaxis": {
           "automargin": true,
           "gridcolor": "white",
           "linecolor": "white",
           "ticks": "",
           "title": {
            "standoff": 15
           },
           "zerolinecolor": "white",
           "zerolinewidth": 2
          }
         }
        }
       }
      },
      "text/html": [
       "<div>                            <div id=\"cf8c75e3-af45-42db-88cd-a1e0cce31883\" class=\"plotly-graph-div\" style=\"height:525px; width:100%;\"></div>            <script type=\"text/javascript\">                require([\"plotly\"], function(Plotly) {                    window.PLOTLYENV=window.PLOTLYENV || {};                                    if (document.getElementById(\"cf8c75e3-af45-42db-88cd-a1e0cce31883\")) {                    Plotly.newPlot(                        \"cf8c75e3-af45-42db-88cd-a1e0cce31883\",                        [{\"customdata\": [[20252310, 354009, 0, \"US\"], [10286709, 148994, 9883461, \"India\"], [7700578, 195411, 6855372, \"Brazil\"], [3153960, 56798, 2553467, \"Russia\"], [2697014, 64892, 200822, \"France\"], [2549693, 74237, 5682, \"United Kingdom\"], [2220855, 21093, 2114760, \"Turkey\"], [2129376, 74621, 1479988, \"Italy\"], [1928265, 50837, 150376, \"Spain\"], [1762637, 34145, 1388744, \"Germany\"], [1654880, 43495, 1520548, \"Colombia\"], [1629594, 43319, 1426676, \"Argentina\"], [1437185, 126507, 1083768, \"Mexico\"], [1305774, 28956, 1046281, \"Poland\"], [1231429, 55337, 995570, \"Iran\"], [1096855, 19437, 746680, \"Ukraine\"], [1073887, 28887, 887701, \"South Africa\"], [1015137, 37680, 951318, \"Peru\"], [816616, 11624, 9651, \"Netherlands\"], [751270, 22329, 617936, \"Indonesia\"], [732022, 11711, 600073, \"Czechia\"], [648289, 19581, 0, \"Belgium\"], [636201, 15841, 566365, \"Romania\"], [612564, 16660, 579203, \"Chile\"], [596193, 12824, 539817, \"Iraq\"], [585400, 15806, 494437, \"Canada\"], [514500, 7576, 458656, \"Bangladesh\"], [484362, 10258, 438974, \"Pakistan\"], [475820, 9248, 439895, \"Philippines\"], [452296, 7704, 317600, \"Switzerland\"], [440970, 7425, 409638, \"Morocco\"], [437379, 8727, 0, \"Sweden\"], [428510, 3356, 379910, \"Israel\"], [420629, 6972, 338668, \"Portugal\"], [362911, 6261, 334901, \"Austria\"], [362878, 6230, 354081, \"Saudi Arabia\"], [339997, 3250, 0, \"Serbia\"], [325278, 9667, 157063, \"Hungary\"], [295765, 3851, 271834, \"Jordan\"], [261019, 1864, 253107, \"Nepal\"], [249733, 4064, 197928, \"Panama\"], [239068, 3540, 193558, \"Japan\"], [228410, 2528, 214992, \"Georgia\"], [219041, 2670, 188280, \"Azerbaijan\"], [213378, 14051, 184507, \"Ecuador\"], [212007, 3961, 199820, \"Croatia\"], [209678, 671, 186019, \"United Arab Emirates\"], [202540, 7604, 120343, \"Bulgaria\"], [202060, 2765, 176774, \"Kazakhstan\"], [196223, 1433, 178102, \"Belarus\"], [184508, 2250, 127190, \"Slovakia\"], [183888, 1479, 127959, \"Lebanon\"], [172218, 2416, 131543, \"Dominican Republic\"], [169321, 2185, 131923, \"Costa Rica\"], [166567, 1322, 131390, \"Denmark\"], [160985, 9175, 132510, \"Bolivia\"], [159738, 2828, 143355, \"Armenia\"], [150869, 936, 146777, \"Kuwait\"], [145430, 1837, 98149, \"Lithuania\"], [145258, 3004, 131701, \"Moldova\"], [144042, 245, 141556, \"Qatar\"], [140557, 4730, 105499, \"Tunisia\"], [139471, 7687, 112826, \"Egypt\"], [139447, 4881, 93764, \"Greece\"], [139223, 1418, 118926, \"West Bank and Gaza\"], [138236, 4820, 126606, \"Guatemala\"], [128867, 1499, 121890, \"Oman\"], [125042, 2697, 107777, \"Burma\"], [124652, 1937, 112251, \"Ethiopia\"], [123950, 2728, 100868, \"Slovenia\"], [122974, 3160, 56936, \"Honduras\"], [115078, 474, 91171, \"Malaysia\"], [113884, 1030, 107901, \"Venezuela\"], [112143, 4086, 77682, \"Bosnia and Herzegovina\"], [108349, 2262, 81977, \"Paraguay\"], [100744, 1487, 73252, \"Libya\"], [99897, 2762, 67395, \"Algeria\"], [96614, 1681, 78802, \"Kenya\"], [96023, 4782, 90031, \"China\"], [93532, 2248, 23364, \"Ireland\"], [92913, 352, 90369, \"Bahrain\"], [88587, 1294, 74373, \"Nigeria\"], [83743, 2510, 61943, \"North Macedonia\"], [81156, 1356, 76148, \"Kyrgyzstan\"], [77182, 614, 75244, \"Uzbekistan\"], [62593, 942, 43578, \"Korea, South\"], [58629, 29, 58449, \"Singapore\"], [58316, 1181, 33634, \"Albania\"], [54930, 335, 53758, \"Ghana\"], [51526, 2191, 41727, \"Afghanistan\"], [51502, 1336, 41854, \"Kosovo\"], [49803, 436, 17998, \"Norway\"], [48589, 684, 38780, \"Montenegro\"], [46415, 495, 40978, \"Luxembourg\"], [45960, 1327, 45960, \"El Salvador\"], [43856, 208, 36155, \"Sri Lanka\"], [41615, 644, 29018, \"Latvia\"], [36403, 561, 29000, \"Finland\"], [35511, 265, 11878, \"Uganda\"], [28460, 909, 22573, \"Australia\"], [28406, 234, 19027, \"Estonia\"], [26848, 448, 24892, \"Cameroon\"], [25730, 1468, 13524, \"Sudan\"], [24545, 208, 20727, \"Namibia\"], [22818, 127, 2057, \"Cyprus\"], [22563, 138, 21981, \"Cote d'Ivoire\"], [20997, 390, 18773, \"Zambia\"], [19753, 193, 13990, \"Uruguay\"], [19364, 410, 17375, \"Senegal\"], [18794, 167, 16680, \"Mozambique\"], [17849, 591, 14701, \"Congo (Kinshasa)\"], [17714, 261, 17228, \"Madagascar\"], [17568, 405, 11146, \"Angola\"], [14805, 42, 12136, \"Botswana\"], [14581, 349, 11652, \"Mauritania\"], [14084, 369, 11347, \"Zimbabwe\"], [13804, 48, 13150, \"Maldives\"], [13738, 81, 13153, \"Guinea\"], [13296, 90, 12894, \"Tajikistan\"], [12915, 303, 10532, \"Jamaica\"], [12909, 219, 11178, \"Malta\"], [12056, 146, 10345, \"Cuba\"], [11872, 113, 11569, \"Cabo Verde\"], [11526, 717, 5420, \"Syria\"], [10776, 248, 9795, \"Belize\"], [10015, 236, 8624, \"Haiti\"], [9571, 64, 9388, \"Gabon\"], [9482, 216, 7073, \"Eswatini\"], [8460, 94, 6598, \"Rwanda\"], [8117, 84, 7463, \"Andorra\"], [7887, 171, 6239, \"Bahamas\"], [7379, 64, 4299, \"Thailand\"], [7203, 271, 4694, \"Mali\"], [7158, 127, 6671, \"Trinidad and Tobago\"], [7107, 108, 5846, \"Congo (Brazzaville)\"], [6828, 85, 5152, \"Burkina Faso\"], [6684, 191, 5708, \"Malawi\"], [6348, 164, 5868, \"Guyana\"], [6277, 123, 5771, \"Suriname\"], [6046, 165, 4225, \"Nicaragua\"], [5840, 61, 5735, \"Djibouti\"], [5754, 29, 5578, \"Iceland\"], [5277, 86, 5136, \"Equatorial Guinea\"], [4963, 63, 1924, \"Central African Republic\"], [4714, 130, 3612, \"Somalia\"], [3800, 124, 3669, \"Gambia\"], [3662, 68, 3443, \"Togo\"], [3558, 63, 3131, \"South Sudan\"], [3403, 106, 1828, \"Niger\"], [3251, 44, 3061, \"Benin\"], [3206, 51, 1496, \"Lesotho\"], [2635, 76, 1906, \"Sierra Leone\"], [2452, 45, 2397, \"Guinea-Bissau\"], [2428, 59, 2042, \"San Marino\"], [2175, 39, 1810, \"Liechtenstein\"], [2162, 25, 2082, \"New Zealand\"], [2141, 104, 1704, \"Chad\"], [2101, 610, 1396, \"Yemen\"], [1779, 83, 1406, \"Liberia\"], [1474, 35, 1325, \"Vietnam\"], [1320, 3, 643, \"Eritrea\"], [1242, 1, 855, \"Mongolia\"], [1022, 17, 973, \"Sao Tome and Principe\"], [885, 3, 718, \"Monaco\"], [823, 10, 705, \"Comoros\"], [822, 2, 687, \"Burundi\"], [802, 7, 682, \"Taiwan*\"], [780, 9, 661, \"Papua New Guinea\"], [712, 13, 699, \"Diamond Princess\"], [689, 0, 449, \"Bhutan\"], [527, 10, 496, \"Mauritius\"], [509, 21, 183, \"Tanzania\"], [395, 7, 319, \"Barbados\"], [379, 0, 362, \"Cambodia\"], [353, 5, 289, \"Saint Lucia\"], [256, 0, 214, \"Seychelles\"], [159, 5, 148, \"Antigua and Barbuda\"], [157, 3, 149, \"Brunei\"], [127, 0, 107, \"Grenada\"], [121, 0, 98, \"Saint Vincent and the Grenadines\"], [88, 0, 83, \"Dominica\"], [49, 2, 44, \"Fiji\"], [44, 0, 32, \"Timor-Leste\"], [41, 0, 40, \"Laos\"], [32, 0, 29, \"Saint Kitts and Nevis\"], [27, 0, 15, \"Holy See\"], [17, 0, 5, \"Solomon Islands\"], [9, 2, 7, \"MS Zaandam\"], [4, 0, 4, \"Marshall Islands\"], [2, 0, 2, \"Samoa\"], [1, 0, 1, \"Vanuatu\"]], \"geo\": \"geo\", \"hovertemplate\": \"<b>%{hovertext}</b><br><br>Confirmed=%{marker.color:,2f}<br>Deaths=%{customdata[1]:,2f}<br>Recovered=%{customdata[2]:,2f}<extra></extra>\", \"hovertext\": [\"US\", \"India\", \"Brazil\", \"Russia\", \"France\", \"United Kingdom\", \"Turkey\", \"Italy\", \"Spain\", \"Germany\", \"Colombia\", \"Argentina\", \"Mexico\", \"Poland\", \"Iran\", \"Ukraine\", \"South Africa\", \"Peru\", \"Netherlands\", \"Indonesia\", \"Czechia\", \"Belgium\", \"Romania\", \"Chile\", \"Iraq\", \"Canada\", \"Bangladesh\", \"Pakistan\", \"Philippines\", \"Switzerland\", \"Morocco\", \"Sweden\", \"Israel\", \"Portugal\", \"Austria\", \"Saudi Arabia\", \"Serbia\", \"Hungary\", \"Jordan\", \"Nepal\", \"Panama\", \"Japan\", \"Georgia\", \"Azerbaijan\", \"Ecuador\", \"Croatia\", \"United Arab Emirates\", \"Bulgaria\", \"Kazakhstan\", \"Belarus\", \"Slovakia\", \"Lebanon\", \"Dominican Republic\", \"Costa Rica\", \"Denmark\", \"Bolivia\", \"Armenia\", \"Kuwait\", \"Lithuania\", \"Moldova\", \"Qatar\", \"Tunisia\", \"Egypt\", \"Greece\", \"West Bank and Gaza\", \"Guatemala\", \"Oman\", \"Burma\", \"Ethiopia\", \"Slovenia\", \"Honduras\", \"Malaysia\", \"Venezuela\", \"Bosnia and Herzegovina\", \"Paraguay\", \"Libya\", \"Algeria\", \"Kenya\", \"China\", \"Ireland\", \"Bahrain\", \"Nigeria\", \"North Macedonia\", \"Kyrgyzstan\", \"Uzbekistan\", \"Korea, South\", \"Singapore\", \"Albania\", \"Ghana\", \"Afghanistan\", \"Kosovo\", \"Norway\", \"Montenegro\", \"Luxembourg\", \"El Salvador\", \"Sri Lanka\", \"Latvia\", \"Finland\", \"Uganda\", \"Australia\", \"Estonia\", \"Cameroon\", \"Sudan\", \"Namibia\", \"Cyprus\", \"Cote d'Ivoire\", \"Zambia\", \"Uruguay\", \"Senegal\", \"Mozambique\", \"Congo (Kinshasa)\", \"Madagascar\", \"Angola\", \"Botswana\", \"Mauritania\", \"Zimbabwe\", \"Maldives\", \"Guinea\", \"Tajikistan\", \"Jamaica\", \"Malta\", \"Cuba\", \"Cabo Verde\", \"Syria\", \"Belize\", \"Haiti\", \"Gabon\", \"Eswatini\", \"Rwanda\", \"Andorra\", \"Bahamas\", \"Thailand\", \"Mali\", \"Trinidad and Tobago\", \"Congo (Brazzaville)\", \"Burkina Faso\", \"Malawi\", \"Guyana\", \"Suriname\", \"Nicaragua\", \"Djibouti\", \"Iceland\", \"Equatorial Guinea\", \"Central African Republic\", \"Somalia\", \"Gambia\", \"Togo\", \"South Sudan\", \"Niger\", \"Benin\", \"Lesotho\", \"Sierra Leone\", \"Guinea-Bissau\", \"San Marino\", \"Liechtenstein\", \"New Zealand\", \"Chad\", \"Yemen\", \"Liberia\", \"Vietnam\", \"Eritrea\", \"Mongolia\", \"Sao Tome and Principe\", \"Monaco\", \"Comoros\", \"Burundi\", \"Taiwan*\", \"Papua New Guinea\", \"Diamond Princess\", \"Bhutan\", \"Mauritius\", \"Tanzania\", \"Barbados\", \"Cambodia\", \"Saint Lucia\", \"Seychelles\", \"Antigua and Barbuda\", \"Brunei\", \"Grenada\", \"Saint Vincent and the Grenadines\", \"Dominica\", \"Fiji\", \"Timor-Leste\", \"Laos\", \"Saint Kitts and Nevis\", \"Holy See\", \"Solomon Islands\", \"MS Zaandam\", \"Marshall Islands\", \"Samoa\", \"Vanuatu\"], \"legendgroup\": \"\", \"locationmode\": \"country names\", \"locations\": [\"US\", \"India\", \"Brazil\", \"Russia\", \"France\", \"United Kingdom\", \"Turkey\", \"Italy\", \"Spain\", \"Germany\", \"Colombia\", \"Argentina\", \"Mexico\", \"Poland\", \"Iran\", \"Ukraine\", \"South Africa\", \"Peru\", \"Netherlands\", \"Indonesia\", \"Czechia\", \"Belgium\", \"Romania\", \"Chile\", \"Iraq\", \"Canada\", \"Bangladesh\", \"Pakistan\", \"Philippines\", \"Switzerland\", \"Morocco\", \"Sweden\", \"Israel\", \"Portugal\", \"Austria\", \"Saudi Arabia\", \"Serbia\", \"Hungary\", \"Jordan\", \"Nepal\", \"Panama\", \"Japan\", \"Georgia\", \"Azerbaijan\", \"Ecuador\", \"Croatia\", \"United Arab Emirates\", \"Bulgaria\", \"Kazakhstan\", \"Belarus\", \"Slovakia\", \"Lebanon\", \"Dominican Republic\", \"Costa Rica\", \"Denmark\", \"Bolivia\", \"Armenia\", \"Kuwait\", \"Lithuania\", \"Moldova\", \"Qatar\", \"Tunisia\", \"Egypt\", \"Greece\", \"West Bank and Gaza\", \"Guatemala\", \"Oman\", \"Burma\", \"Ethiopia\", \"Slovenia\", \"Honduras\", \"Malaysia\", \"Venezuela\", \"Bosnia and Herzegovina\", \"Paraguay\", \"Libya\", \"Algeria\", \"Kenya\", \"China\", \"Ireland\", \"Bahrain\", \"Nigeria\", \"North Macedonia\", \"Kyrgyzstan\", \"Uzbekistan\", \"Korea, South\", \"Singapore\", \"Albania\", \"Ghana\", \"Afghanistan\", \"Kosovo\", \"Norway\", \"Montenegro\", \"Luxembourg\", \"El Salvador\", \"Sri Lanka\", \"Latvia\", \"Finland\", \"Uganda\", \"Australia\", \"Estonia\", \"Cameroon\", \"Sudan\", \"Namibia\", \"Cyprus\", \"Cote d'Ivoire\", \"Zambia\", \"Uruguay\", \"Senegal\", \"Mozambique\", \"Congo (Kinshasa)\", \"Madagascar\", \"Angola\", \"Botswana\", \"Mauritania\", \"Zimbabwe\", \"Maldives\", \"Guinea\", \"Tajikistan\", \"Jamaica\", \"Malta\", \"Cuba\", \"Cabo Verde\", \"Syria\", \"Belize\", \"Haiti\", \"Gabon\", \"Eswatini\", \"Rwanda\", \"Andorra\", \"Bahamas\", \"Thailand\", \"Mali\", \"Trinidad and Tobago\", \"Congo (Brazzaville)\", \"Burkina Faso\", \"Malawi\", \"Guyana\", \"Suriname\", \"Nicaragua\", \"Djibouti\", \"Iceland\", \"Equatorial Guinea\", \"Central African Republic\", \"Somalia\", \"Gambia\", \"Togo\", \"South Sudan\", \"Niger\", \"Benin\", \"Lesotho\", \"Sierra Leone\", \"Guinea-Bissau\", \"San Marino\", \"Liechtenstein\", \"New Zealand\", \"Chad\", \"Yemen\", \"Liberia\", \"Vietnam\", \"Eritrea\", \"Mongolia\", \"Sao Tome and Principe\", \"Monaco\", \"Comoros\", \"Burundi\", \"Taiwan*\", \"Papua New Guinea\", \"Diamond Princess\", \"Bhutan\", \"Mauritius\", \"Tanzania\", \"Barbados\", \"Cambodia\", \"Saint Lucia\", \"Seychelles\", \"Antigua and Barbuda\", \"Brunei\", \"Grenada\", \"Saint Vincent and the Grenadines\", \"Dominica\", \"Fiji\", \"Timor-Leste\", \"Laos\", \"Saint Kitts and Nevis\", \"Holy See\", \"Solomon Islands\", \"MS Zaandam\", \"Marshall Islands\", \"Samoa\", \"Vanuatu\"], \"marker\": {\"color\": [20252310, 10286709, 7700578, 3153960, 2697014, 2549693, 2220855, 2129376, 1928265, 1762637, 1654880, 1629594, 1437185, 1305774, 1231429, 1096855, 1073887, 1015137, 816616, 751270, 732022, 648289, 636201, 612564, 596193, 585400, 514500, 484362, 475820, 452296, 440970, 437379, 428510, 420629, 362911, 362878, 339997, 325278, 295765, 261019, 249733, 239068, 228410, 219041, 213378, 212007, 209678, 202540, 202060, 196223, 184508, 183888, 172218, 169321, 166567, 160985, 159738, 150869, 145430, 145258, 144042, 140557, 139471, 139447, 139223, 138236, 128867, 125042, 124652, 123950, 122974, 115078, 113884, 112143, 108349, 100744, 99897, 96614, 96023, 93532, 92913, 88587, 83743, 81156, 77182, 62593, 58629, 58316, 54930, 51526, 51502, 49803, 48589, 46415, 45960, 43856, 41615, 36403, 35511, 28460, 28406, 26848, 25730, 24545, 22818, 22563, 20997, 19753, 19364, 18794, 17849, 17714, 17568, 14805, 14581, 14084, 13804, 13738, 13296, 12915, 12909, 12056, 11872, 11526, 10776, 10015, 9571, 9482, 8460, 8117, 7887, 7379, 7203, 7158, 7107, 6828, 6684, 6348, 6277, 6046, 5840, 5754, 5277, 4963, 4714, 3800, 3662, 3558, 3403, 3251, 3206, 2635, 2452, 2428, 2175, 2162, 2141, 2101, 1779, 1474, 1320, 1242, 1022, 885, 823, 822, 802, 780, 712, 689, 527, 509, 395, 379, 353, 256, 159, 157, 127, 121, 88, 49, 44, 41, 32, 27, 17, 9, 4, 2, 1], \"coloraxis\": \"coloraxis\", \"size\": [20252310, 10286709, 7700578, 3153960, 2697014, 2549693, 2220855, 2129376, 1928265, 1762637, 1654880, 1629594, 1437185, 1305774, 1231429, 1096855, 1073887, 1015137, 816616, 751270, 732022, 648289, 636201, 612564, 596193, 585400, 514500, 484362, 475820, 452296, 440970, 437379, 428510, 420629, 362911, 362878, 339997, 325278, 295765, 261019, 249733, 239068, 228410, 219041, 213378, 212007, 209678, 202540, 202060, 196223, 184508, 183888, 172218, 169321, 166567, 160985, 159738, 150869, 145430, 145258, 144042, 140557, 139471, 139447, 139223, 138236, 128867, 125042, 124652, 123950, 122974, 115078, 113884, 112143, 108349, 100744, 99897, 96614, 96023, 93532, 92913, 88587, 83743, 81156, 77182, 62593, 58629, 58316, 54930, 51526, 51502, 49803, 48589, 46415, 45960, 43856, 41615, 36403, 35511, 28460, 28406, 26848, 25730, 24545, 22818, 22563, 20997, 19753, 19364, 18794, 17849, 17714, 17568, 14805, 14581, 14084, 13804, 13738, 13296, 12915, 12909, 12056, 11872, 11526, 10776, 10015, 9571, 9482, 8460, 8117, 7887, 7379, 7203, 7158, 7107, 6828, 6684, 6348, 6277, 6046, 5840, 5754, 5277, 4963, 4714, 3800, 3662, 3558, 3403, 3251, 3206, 2635, 2452, 2428, 2175, 2162, 2141, 2101, 1779, 1474, 1320, 1242, 1022, 885, 823, 822, 802, 780, 712, 689, 527, 509, 395, 379, 353, 256, 159, 157, 127, 121, 88, 49, 44, 41, 32, 27, 17, 9, 4, 2, 1], \"sizemode\": \"area\", \"sizeref\": 12657.69375, \"symbol\": \"circle\"}, \"mode\": \"markers\", \"name\": \"\", \"showlegend\": false, \"type\": \"scattergeo\"}],                        {\"coloraxis\": {\"colorbar\": {\"title\": {\"text\": \"Confirmed\"}}, \"colorscale\": [[0.0, \"#0d0887\"], [0.1111111111111111, \"#46039f\"], [0.2222222222222222, \"#7201a8\"], [0.3333333333333333, \"#9c179e\"], [0.4444444444444444, \"#bd3786\"], [0.5555555555555556, \"#d8576b\"], [0.6666666666666666, \"#ed7953\"], [0.7777777777777778, \"#fb9f3a\"], [0.8888888888888888, \"#fdca26\"], [1.0, \"#f0f921\"]]}, \"geo\": {\"center\": {}, \"domain\": {\"x\": [0.0, 1.0], \"y\": [0.0, 1.0]}}, \"legend\": {\"itemsizing\": \"constant\", \"tracegroupgap\": 0}, \"margin\": {\"t\": 60}, \"template\": {\"data\": {\"bar\": [{\"error_x\": {\"color\": \"#2a3f5f\"}, \"error_y\": {\"color\": \"#2a3f5f\"}, \"marker\": {\"line\": {\"color\": \"#E5ECF6\", \"width\": 0.5}}, \"type\": \"bar\"}], \"barpolar\": [{\"marker\": {\"line\": {\"color\": \"#E5ECF6\", \"width\": 0.5}}, \"type\": \"barpolar\"}], \"carpet\": [{\"aaxis\": {\"endlinecolor\": \"#2a3f5f\", \"gridcolor\": \"white\", \"linecolor\": \"white\", \"minorgridcolor\": \"white\", \"startlinecolor\": \"#2a3f5f\"}, \"baxis\": {\"endlinecolor\": \"#2a3f5f\", \"gridcolor\": \"white\", \"linecolor\": \"white\", \"minorgridcolor\": \"white\", \"startlinecolor\": \"#2a3f5f\"}, \"type\": \"carpet\"}], \"choropleth\": [{\"colorbar\": {\"outlinewidth\": 0, \"ticks\": \"\"}, \"type\": \"choropleth\"}], \"contour\": [{\"colorbar\": {\"outlinewidth\": 0, \"ticks\": \"\"}, \"colorscale\": [[0.0, \"#0d0887\"], [0.1111111111111111, \"#46039f\"], [0.2222222222222222, \"#7201a8\"], [0.3333333333333333, \"#9c179e\"], [0.4444444444444444, \"#bd3786\"], [0.5555555555555556, \"#d8576b\"], [0.6666666666666666, \"#ed7953\"], [0.7777777777777778, \"#fb9f3a\"], [0.8888888888888888, \"#fdca26\"], [1.0, \"#f0f921\"]], \"type\": \"contour\"}], \"contourcarpet\": [{\"colorbar\": {\"outlinewidth\": 0, \"ticks\": \"\"}, \"type\": \"contourcarpet\"}], \"heatmap\": [{\"colorbar\": {\"outlinewidth\": 0, \"ticks\": \"\"}, \"colorscale\": [[0.0, \"#0d0887\"], [0.1111111111111111, \"#46039f\"], [0.2222222222222222, \"#7201a8\"], [0.3333333333333333, \"#9c179e\"], [0.4444444444444444, \"#bd3786\"], [0.5555555555555556, \"#d8576b\"], [0.6666666666666666, \"#ed7953\"], [0.7777777777777778, \"#fb9f3a\"], [0.8888888888888888, \"#fdca26\"], [1.0, \"#f0f921\"]], \"type\": \"heatmap\"}], \"heatmapgl\": [{\"colorbar\": {\"outlinewidth\": 0, \"ticks\": \"\"}, \"colorscale\": [[0.0, \"#0d0887\"], [0.1111111111111111, \"#46039f\"], [0.2222222222222222, \"#7201a8\"], [0.3333333333333333, \"#9c179e\"], [0.4444444444444444, \"#bd3786\"], [0.5555555555555556, \"#d8576b\"], [0.6666666666666666, \"#ed7953\"], [0.7777777777777778, \"#fb9f3a\"], [0.8888888888888888, \"#fdca26\"], [1.0, \"#f0f921\"]], \"type\": \"heatmapgl\"}], \"histogram\": [{\"marker\": {\"colorbar\": {\"outlinewidth\": 0, \"ticks\": \"\"}}, \"type\": \"histogram\"}], \"histogram2d\": [{\"colorbar\": {\"outlinewidth\": 0, \"ticks\": \"\"}, \"colorscale\": [[0.0, \"#0d0887\"], [0.1111111111111111, \"#46039f\"], [0.2222222222222222, \"#7201a8\"], [0.3333333333333333, \"#9c179e\"], [0.4444444444444444, \"#bd3786\"], [0.5555555555555556, \"#d8576b\"], [0.6666666666666666, \"#ed7953\"], [0.7777777777777778, \"#fb9f3a\"], [0.8888888888888888, \"#fdca26\"], [1.0, \"#f0f921\"]], \"type\": \"histogram2d\"}], \"histogram2dcontour\": [{\"colorbar\": {\"outlinewidth\": 0, \"ticks\": \"\"}, \"colorscale\": [[0.0, \"#0d0887\"], [0.1111111111111111, \"#46039f\"], [0.2222222222222222, \"#7201a8\"], [0.3333333333333333, \"#9c179e\"], [0.4444444444444444, \"#bd3786\"], [0.5555555555555556, \"#d8576b\"], [0.6666666666666666, \"#ed7953\"], [0.7777777777777778, \"#fb9f3a\"], [0.8888888888888888, \"#fdca26\"], [1.0, \"#f0f921\"]], \"type\": \"histogram2dcontour\"}], \"mesh3d\": [{\"colorbar\": {\"outlinewidth\": 0, \"ticks\": \"\"}, \"type\": \"mesh3d\"}], \"parcoords\": [{\"line\": {\"colorbar\": {\"outlinewidth\": 0, \"ticks\": \"\"}}, \"type\": \"parcoords\"}], \"pie\": [{\"automargin\": true, \"type\": \"pie\"}], \"scatter\": [{\"marker\": {\"colorbar\": {\"outlinewidth\": 0, \"ticks\": \"\"}}, \"type\": \"scatter\"}], \"scatter3d\": [{\"line\": {\"colorbar\": {\"outlinewidth\": 0, \"ticks\": \"\"}}, \"marker\": {\"colorbar\": {\"outlinewidth\": 0, \"ticks\": \"\"}}, \"type\": \"scatter3d\"}], \"scattercarpet\": [{\"marker\": {\"colorbar\": {\"outlinewidth\": 0, \"ticks\": \"\"}}, \"type\": \"scattercarpet\"}], \"scattergeo\": [{\"marker\": {\"colorbar\": {\"outlinewidth\": 0, \"ticks\": \"\"}}, \"type\": \"scattergeo\"}], \"scattergl\": [{\"marker\": {\"colorbar\": {\"outlinewidth\": 0, \"ticks\": \"\"}}, \"type\": \"scattergl\"}], \"scattermapbox\": [{\"marker\": {\"colorbar\": {\"outlinewidth\": 0, \"ticks\": \"\"}}, \"type\": \"scattermapbox\"}], \"scatterpolar\": [{\"marker\": {\"colorbar\": {\"outlinewidth\": 0, \"ticks\": \"\"}}, \"type\": \"scatterpolar\"}], \"scatterpolargl\": [{\"marker\": {\"colorbar\": {\"outlinewidth\": 0, \"ticks\": \"\"}}, \"type\": \"scatterpolargl\"}], \"scatterternary\": [{\"marker\": {\"colorbar\": {\"outlinewidth\": 0, \"ticks\": \"\"}}, \"type\": \"scatterternary\"}], \"surface\": [{\"colorbar\": {\"outlinewidth\": 0, \"ticks\": \"\"}, \"colorscale\": [[0.0, \"#0d0887\"], [0.1111111111111111, \"#46039f\"], [0.2222222222222222, \"#7201a8\"], [0.3333333333333333, \"#9c179e\"], [0.4444444444444444, \"#bd3786\"], [0.5555555555555556, \"#d8576b\"], [0.6666666666666666, \"#ed7953\"], [0.7777777777777778, \"#fb9f3a\"], [0.8888888888888888, \"#fdca26\"], [1.0, \"#f0f921\"]], \"type\": \"surface\"}], \"table\": [{\"cells\": {\"fill\": {\"color\": \"#EBF0F8\"}, \"line\": {\"color\": \"white\"}}, \"header\": {\"fill\": {\"color\": \"#C8D4E3\"}, \"line\": {\"color\": \"white\"}}, \"type\": \"table\"}]}, \"layout\": {\"annotationdefaults\": {\"arrowcolor\": \"#2a3f5f\", \"arrowhead\": 0, \"arrowwidth\": 1}, \"autotypenumbers\": \"strict\", \"coloraxis\": {\"colorbar\": {\"outlinewidth\": 0, \"ticks\": \"\"}}, \"colorscale\": {\"diverging\": [[0, \"#8e0152\"], [0.1, \"#c51b7d\"], [0.2, \"#de77ae\"], [0.3, \"#f1b6da\"], [0.4, \"#fde0ef\"], [0.5, \"#f7f7f7\"], [0.6, \"#e6f5d0\"], [0.7, \"#b8e186\"], [0.8, \"#7fbc41\"], [0.9, \"#4d9221\"], [1, \"#276419\"]], \"sequential\": [[0.0, \"#0d0887\"], [0.1111111111111111, \"#46039f\"], [0.2222222222222222, \"#7201a8\"], [0.3333333333333333, \"#9c179e\"], [0.4444444444444444, \"#bd3786\"], [0.5555555555555556, \"#d8576b\"], [0.6666666666666666, \"#ed7953\"], [0.7777777777777778, \"#fb9f3a\"], [0.8888888888888888, \"#fdca26\"], [1.0, \"#f0f921\"]], \"sequentialminus\": [[0.0, \"#0d0887\"], [0.1111111111111111, \"#46039f\"], [0.2222222222222222, \"#7201a8\"], [0.3333333333333333, \"#9c179e\"], [0.4444444444444444, \"#bd3786\"], [0.5555555555555556, \"#d8576b\"], [0.6666666666666666, \"#ed7953\"], [0.7777777777777778, \"#fb9f3a\"], [0.8888888888888888, \"#fdca26\"], [1.0, \"#f0f921\"]]}, \"colorway\": [\"#636efa\", \"#EF553B\", \"#00cc96\", \"#ab63fa\", \"#FFA15A\", \"#19d3f3\", \"#FF6692\", \"#B6E880\", \"#FF97FF\", \"#FECB52\"], \"font\": {\"color\": \"#2a3f5f\"}, \"geo\": {\"bgcolor\": \"white\", \"lakecolor\": \"white\", \"landcolor\": \"#E5ECF6\", \"showlakes\": true, \"showland\": true, \"subunitcolor\": \"white\"}, \"hoverlabel\": {\"align\": \"left\"}, \"hovermode\": \"closest\", \"mapbox\": {\"style\": \"light\"}, \"paper_bgcolor\": \"white\", \"plot_bgcolor\": \"#E5ECF6\", \"polar\": {\"angularaxis\": {\"gridcolor\": \"white\", \"linecolor\": \"white\", \"ticks\": \"\"}, \"bgcolor\": \"#E5ECF6\", \"radialaxis\": {\"gridcolor\": \"white\", \"linecolor\": \"white\", \"ticks\": \"\"}}, \"scene\": {\"xaxis\": {\"backgroundcolor\": \"#E5ECF6\", \"gridcolor\": \"white\", \"gridwidth\": 2, \"linecolor\": \"white\", \"showbackground\": true, \"ticks\": \"\", \"zerolinecolor\": \"white\"}, \"yaxis\": {\"backgroundcolor\": \"#E5ECF6\", \"gridcolor\": \"white\", \"gridwidth\": 2, \"linecolor\": \"white\", \"showbackground\": true, \"ticks\": \"\", \"zerolinecolor\": \"white\"}, \"zaxis\": {\"backgroundcolor\": \"#E5ECF6\", \"gridcolor\": \"white\", \"gridwidth\": 2, \"linecolor\": \"white\", \"showbackground\": true, \"ticks\": \"\", \"zerolinecolor\": \"white\"}}, \"shapedefaults\": {\"line\": {\"color\": \"#2a3f5f\"}}, \"ternary\": {\"aaxis\": {\"gridcolor\": \"white\", \"linecolor\": \"white\", \"ticks\": \"\"}, \"baxis\": {\"gridcolor\": \"white\", \"linecolor\": \"white\", \"ticks\": \"\"}, \"bgcolor\": \"#E5ECF6\", \"caxis\": {\"gridcolor\": \"white\", \"linecolor\": \"white\", \"ticks\": \"\"}}, \"title\": {\"x\": 0.05}, \"xaxis\": {\"automargin\": true, \"gridcolor\": \"white\", \"linecolor\": \"white\", \"ticks\": \"\", \"title\": {\"standoff\": 15}, \"zerolinecolor\": \"white\", \"zerolinewidth\": 2}, \"yaxis\": {\"automargin\": true, \"gridcolor\": \"white\", \"linecolor\": \"white\", \"ticks\": \"\", \"title\": {\"standoff\": 15}, \"zerolinecolor\": \"white\", \"zerolinewidth\": 2}}}},                        {\"responsive\": true}                    ).then(function(){\n",
       "                            \n",
       "var gd = document.getElementById('cf8c75e3-af45-42db-88cd-a1e0cce31883');\n",
       "var x = new MutationObserver(function (mutations, observer) {{\n",
       "        var display = window.getComputedStyle(gd).display;\n",
       "        if (!display || display === 'none') {{\n",
       "            console.log([gd, 'removed!']);\n",
       "            Plotly.purge(gd);\n",
       "            observer.disconnect();\n",
       "        }}\n",
       "}});\n",
       "\n",
       "// Listen for the removal of the full notebook cells\n",
       "var notebookContainer = gd.closest('#notebook-container');\n",
       "if (notebookContainer) {{\n",
       "    x.observe(notebookContainer, {childList: true});\n",
       "}}\n",
       "\n",
       "// Listen for the clearing of the current output cell\n",
       "var outputEl = gd.closest('.output');\n",
       "if (outputEl) {{\n",
       "    x.observe(outputEl, {childList: true});\n",
       "}}\n",
       "\n",
       "                        })                };                });            </script>        </div>"
      ]
     },
     "metadata": {},
     "output_type": "display_data"
    }
   ],
   "source": [
    "import plotly.express as px\n",
    "from data import countries_df\n",
    "\n",
    "fig = px.scatter_geo(countries_df, \n",
    "                     size=\"Confirmed\",\n",
    "                     size_max=40,\n",
    "                     hover_name=\"Country_Region\", \n",
    "                     color=\"Confirmed\", \n",
    "                     locations=\"Country_Region\", \n",
    "                     locationmode='country names', \n",
    "                     hover_data={\n",
    "                        \"Confirmed\": \":,2f\",\n",
    "                        \"Deaths\": \":,2f\",\n",
    "                        \"Recovered\": \":,2f\",\n",
    "                        \"Country_Region\": False,\n",
    "                    },\n",
    "                    )\n",
    "fig.show()"
   ]
  }
 ],
 "metadata": {
  "kernelspec": {
   "display_name": "Python 3",
   "language": "python",
   "name": "python3"
  },
  "language_info": {
   "codemirror_mode": {
    "name": "ipython",
    "version": 3
   },
   "file_extension": ".py",
   "mimetype": "text/x-python",
   "name": "python",
   "nbconvert_exporter": "python",
   "pygments_lexer": "ipython3",
   "version": "3.8.3"
  }
 },
 "nbformat": 4,
 "nbformat_minor": 5
}
